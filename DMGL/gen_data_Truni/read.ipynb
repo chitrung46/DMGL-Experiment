{
 "cells": [
  {
   "cell_type": "code",
   "execution_count": 1,
   "id": "db974791",
   "metadata": {},
   "outputs": [],
   "source": [
    "import h5py\n",
    "import os\n",
    "import numpy as np\n",
    "import pandas as pd"
   ]
  },
  {
   "cell_type": "code",
   "execution_count": 68,
   "id": "bf8c9ae0",
   "metadata": {},
   "outputs": [],
   "source": [
    "def add_window_horizon(data, window=12, horizon=12, single=False):\n",
    "    '''\n",
    "    :param data: shape [B, ...]\n",
    "    :param window:\n",
    "    :param horizon:\n",
    "    :return: X is [B, W, ...], Y is [B, H, ...]\n",
    "    '''\n",
    "    length = len(data)\n",
    "    end_index = length - horizon - window + 1\n",
    "    X = []      #windows\n",
    "    Y = []      #horizon\n",
    "    index = 0\n",
    "    if single:\n",
    "        while index < end_index:\n",
    "            X.append(data[index:index+window])\n",
    "            Y.append(data[index+window+horizon-1:index+window+horizon])\n",
    "            index = index + 1\n",
    "    else:\n",
    "        while index < end_index:\n",
    "            X.append(data[index:index+window])\n",
    "            Y.append(data[index+window:index+window+horizon])\n",
    "            index = index + 1\n",
    "    X = np.array(X)\n",
    "    Y = np.array(Y)\n",
    "    return X, Y\n",
    "\n",
    "def split_data_by_ratio(data, val_ratio, test_ratio):\n",
    "    data_len = data.shape[0]\n",
    "    test_data = data[-int(data_len*test_ratio):]\n",
    "    val_data = data[-int(data_len*(test_ratio+val_ratio)):-int(data_len*test_ratio)]\n",
    "    train_data = data[:-int(data_len*(test_ratio+val_ratio))]\n",
    "    return train_data, val_data, test_data"
   ]
  },
  {
   "cell_type": "code",
   "execution_count": 51,
   "id": "896b9d1e",
   "metadata": {},
   "outputs": [],
   "source": [
    "nyc_taxi = h5py.File('./nyc_taxi.h5')\n",
    "nyc_pick = np.expand_dims(nyc_taxi['taxi_pick'][:], axis=-1)\n",
    "nyc_drop = np.expand_dims(nyc_taxi['taxi_drop'][:], axis=-1)\n",
    "\n",
    "nyc_data = np.concatenate([nyc_pick, nyc_drop], axis=-1)\n"
   ]
  },
  {
   "cell_type": "code",
   "execution_count": 59,
   "id": "8f899658",
   "metadata": {},
   "outputs": [
    {
     "data": {
      "text/plain": [
       "(4368, 266, 2)"
      ]
     },
     "execution_count": 59,
     "metadata": {},
     "output_type": "execute_result"
    }
   ],
   "source": [
    "nyc_data.shape"
   ]
  },
  {
   "cell_type": "code",
   "execution_count": 61,
   "id": "cc6a7715",
   "metadata": {},
   "outputs": [],
   "source": [
    "x, y = add_window_horizon(nyc_data)"
   ]
  },
  {
   "cell_type": "code",
   "execution_count": 69,
   "id": "502c84c2",
   "metadata": {},
   "outputs": [],
   "source": [
    "x_train, x_val, x_test = split_data_by_ratio(x, 1.5, 1.5)\n",
    "y_train, y_val, y_test = split_data_by_ratio(y, 1.5, 1.5)"
   ]
  },
  {
   "cell_type": "code",
   "execution_count": 71,
   "id": "a341aded",
   "metadata": {},
   "outputs": [],
   "source": [
    "np.savez_compressed('train.npz', x=x_train, y=y_train)\n",
    "np.savez_compressed('val.npz', x=x_val, y=y_val)\n",
    "np.savez_compressed('test.npz', x=x_test, y=y_test)"
   ]
  }
 ],
 "metadata": {
  "kernelspec": {
   "display_name": "Python 3",
   "language": "python",
   "name": "python3"
  },
  "language_info": {
   "codemirror_mode": {
    "name": "ipython",
    "version": 3
   },
   "file_extension": ".py",
   "mimetype": "text/x-python",
   "name": "python",
   "nbconvert_exporter": "python",
   "pygments_lexer": "ipython3",
   "version": "3.11.6"
  }
 },
 "nbformat": 4,
 "nbformat_minor": 5
}
